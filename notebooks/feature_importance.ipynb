{
 "cells": [
  {
   "cell_type": "code",
   "execution_count": null,
   "metadata": {},
   "outputs": [],
   "source": [
    "import pandas as pd\n",
    "from sklearn.ensemble import RandomForestClassifier\n",
    "from sklearn.preprocessing import LabelEncoder\n",
    "import joblib\n",
    "import datetime\n",
    "import matplotlib.pyplot as plt"
   ]
  },
  {
   "cell_type": "code",
   "execution_count": null,
   "metadata": {},
   "outputs": [],
   "source": [
    "def get_part_of_day(hour):\n",
    "    if 5 <= hour < 12:\n",
    "        return 'morning'\n",
    "    elif 12 <= hour < 17:\n",
    "        return 'afternoon'\n",
    "    elif 17 <= hour < 21:\n",
    "        return 'evening'\n",
    "    else:\n",
    "        return 'night'\n",
    "\n",
    "train_set = pd.read_csv('../data/preprocessed/train_set.csv')\n",
    "\n",
    "# Convert 'day' to day of the week (0=Monday, 6=Sunday)\n",
    "train_set['day_of_week'] = pd.to_datetime(train_set['day']).dt.dayofweek\n",
    "\n",
    "# Convert 'time' to part of the day (morning, afternoon, evening, night)\n",
    "train_set['part_of_day'] = pd.to_datetime(train_set['time']).dt.hour.apply(get_part_of_day)\n",
    "\n",
    "train_set = train_set.drop(['day', 'time'], axis=1)\n",
    "\n",
    "# Encode the categorical 'part_of_day' column\n",
    "label_encoder = LabelEncoder()\n",
    "train_set['part_of_day'] = label_encoder.fit_transform(train_set['part_of_day'])\n",
    "\n",
    "features = train_set.drop(['id', 'mood'], axis=1)\n",
    "target = train_set['mood']\n",
    "\n",
    "rf_classifier = RandomForestClassifier(n_estimators=100, random_state=42)\n",
    "\n",
    "rf_classifier.fit(features, target)\n",
    "joblib.dump(rf_classifier, '../data/models/rf_trained_model.joblib')"
   ]
  },
  {
   "cell_type": "code",
   "execution_count": null,
   "metadata": {},
   "outputs": [],
   "source": [
    "rf_classifier = joblib.load('../data/models/rf_trained_model.joblib')\n",
    "\n",
    "train_set = pd.read_csv('../data/preprocessed/train_set.csv')\n",
    "feature_names = train_set.drop(['id', 'mood'], axis=1).columns\n",
    "\n",
    "importances = rf_classifier.feature_importances_\n",
    "\n",
    "feature_importances = pd.DataFrame({\n",
    "    'Feature': feature_names,\n",
    "    'Importance': importances\n",
    "})\n",
    "\n",
    "feature_importances = feature_importances.sort_values(by='Importance', ascending=False)\n",
    "\n",
    "plt.figure(figsize=(10, 6))\n",
    "plt.title('Feature Importances')\n",
    "plt.barh(range(len(importances)), feature_importances['Importance'], color='b', align='center')\n",
    "plt.yticks(range(len(importances)), feature_importances['Feature'])\n",
    "plt.gca().invert_yaxis()\n",
    "plt.xlabel('Relative Importance')\n",
    "plt.show()"
   ]
  }
 ],
 "metadata": {
  "language_info": {
   "name": "python"
  }
 },
 "nbformat": 4,
 "nbformat_minor": 2
}
