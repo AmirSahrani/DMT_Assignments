{
 "cells": [
  {
   "cell_type": "code",
   "execution_count": 1,
   "metadata": {},
   "outputs": [],
   "source": [
    "import pandas as pd\n",
    "from sklearn.model_selection import train_test_split\n",
    "\n",
    "filepath = '../data/preprocessed/toy_data.csv'\n",
    "cellular_data = pd.read_csv(filepath)\n",
    "\n",
    "data = cellular_data.drop(columns=['Unnamed: 0', 'level_0', 'index', 'id'])\n",
    "features = data.drop(columns=['time', 'mood'])\n",
    "target = data['mood']\n",
    "\n",
    "# Splitting the dataset into training and testing sets with an 80:20 ratio\n",
    "X_train, X_test, y_train, y_test = train_test_split(features, target, test_size=0.2, random_state=42)\n",
    "train_set = pd.concat([X_train, y_train], axis=1)\n",
    "test_set = pd.concat([X_test, y_test], axis=1)\n",
    "\n",
    "train_set_path = '../data/train_set.csv'\n",
    "test_set_path = '../data/test_set.csv' \n",
    "\n",
    "train_set.to_csv(train_set_path, index=False)\n",
    "test_set.to_csv(test_set_path, index=False)\n",
    "\n"
   ]
  }
 ],
 "metadata": {
  "kernelspec": {
   "display_name": "Python 3",
   "language": "python",
   "name": "python3"
  },
  "language_info": {
   "codemirror_mode": {
    "name": "ipython",
    "version": 3
   },
   "file_extension": ".py",
   "mimetype": "text/x-python",
   "name": "python",
   "nbconvert_exporter": "python",
   "pygments_lexer": "ipython3",
   "version": "3.11.4"
  }
 },
 "nbformat": 4,
 "nbformat_minor": 2
}
