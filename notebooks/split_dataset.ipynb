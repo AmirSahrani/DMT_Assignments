{
 "cells": [
  {
   "cell_type": "code",
   "execution_count": 5,
   "metadata": {},
   "outputs": [],
   "source": [
    "import pandas as pd\n",
    "from sklearn.model_selection import GroupShuffleSplit\n",
    "\n",
    "data = pd.read_csv('../data/preprocessed/engineered_data.csv')\n",
    "\n",
    "# # Round mood values to discrete values of 1-10\n",
    "# data['mood'] = data['mood'].round().astype(int)\n",
    "# data['mood'] = data['mood'].clip(lower=1, upper=10)\n",
    "\n",
    "data = data.sort_values(by=['id', 'day'])\n",
    "groups = data['id']\n",
    "\n",
    "gss = GroupShuffleSplit(n_splits=1, test_size=0.2, random_state=42)\n",
    "\n",
    "# Split the dataset\n",
    "for train_idx, test_idx in gss.split(data, groups=groups):\n",
    "    train_set = data.iloc[train_idx]\n",
    "    test_set = data.iloc[test_idx]\n",
    "\n",
    "train_set.to_csv('../data/preprocessed/train_set.csv', index=False)\n",
    "test_set.to_csv('../data/preprocessed/test_set.csv', index=False)\n"
   ]
  }
 ],
 "metadata": {
  "kernelspec": {
   "display_name": "Python 3",
   "language": "python",
   "name": "python3"
  },
  "language_info": {
   "codemirror_mode": {
    "name": "ipython",
    "version": 3
   },
   "file_extension": ".py",
   "mimetype": "text/x-python",
   "name": "python",
   "nbconvert_exporter": "python",
   "pygments_lexer": "ipython3",
   "version": "3.11.4"
  }
 },
 "nbformat": 4,
 "nbformat_minor": 2
}
