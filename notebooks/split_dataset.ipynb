{
 "cells": [
  {
   "cell_type": "code",
   "execution_count": null,
   "metadata": {},
   "outputs": [],
   "source": [
    "import pandas as pd\n",
    "import matplotlib.pyplot as plt\n",
    "\n",
    "filepath = '../data/preprocessed/engineered_data.csv'\n",
    "data_cleaned = pd.read_csv(filepath)\n",
    "\n",
    "# Sort the data by 'day'\n",
    "data_cleaned['day'] = pd.to_datetime(data_cleaned['day'])\n",
    "data_cleaned.sort_values(by='day', inplace=True)\n",
    "\n",
    "# Determine the cut-off day for the 80:20 split\n",
    "cutoff = int(len(data_cleaned) * 0.8)\n",
    "\n",
    "# Split the data into training and testing sets\n",
    "train_data = data_cleaned.iloc[:cutoff]\n",
    "test_data = data_cleaned.iloc[cutoff:]\n",
    "\n",
    "train_data.sort_values(by=['id', 'day'], inplace=True)\n",
    "test_data.sort_values(by=['id', 'day'], inplace=True)\n",
    "\n",
    "train_data.to_csv('../data/preprocessed/train_classification.csv', index=False)\n",
    "test_data.to_csv('../data/preprocessed/test_classification.csv', index=False)\n",
    "\n",
    "# Plotting to visually inspect the train-test split\n",
    "plt.figure(figsize=(14, 6))\n",
    "plt.scatter(train_data['day'], train_data['mood'], label='Train Data', color='blue', alpha=0.5)\n",
    "plt.scatter(test_data['day'], test_data['mood'], label='Test Data', color='red', alpha=0.5)\n",
    "plt.title('Train-Test Split', fontsize=20)\n",
    "plt.xlabel('Date', fontsize=18)\n",
    "plt.xticks(fontsize=14)\n",
    "plt.ylabel('Mood Score', fontsize=18)\n",
    "plt.yticks(fontsize=14)\n",
    "plt.legend(fontsize=16)\n",
    "plt.show()"
   ]
  }
 ],
 "metadata": {
  "kernelspec": {
   "display_name": "Python 3",
   "language": "python",
   "name": "python3"
  },
  "language_info": {
   "codemirror_mode": {
    "name": "ipython",
    "version": 3
   },
   "file_extension": ".py",
   "mimetype": "text/x-python",
   "name": "python",
   "nbconvert_exporter": "python",
   "pygments_lexer": "ipython3",
   "version": "3.11.4"
  }
 },
 "nbformat": 4,
 "nbformat_minor": 2
}
