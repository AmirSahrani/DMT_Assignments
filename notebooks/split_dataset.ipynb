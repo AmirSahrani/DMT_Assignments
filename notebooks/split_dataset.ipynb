{
 "cells": [
  {
   "cell_type": "code",
   "execution_count": null,
   "metadata": {},
   "outputs": [],
   "source": [
    "import pandas as pd\n",
    "from sklearn.model_selection import GroupShuffleSplit\n",
    "\n",
    "data = pd.read_csv('../data/preprocessed/engineered_data.csv')\n",
    "\n",
    "# # Round mood values to discrete values of 1-10\n",
    "# data['mood'] = data['mood'].round().astype(int)\n",
    "# data['mood'] = data['mood'].clip(lower=1, upper=10)\n",
    "\n",
    "data = data.sort_values(by=['id', 'day'])\n",
    "groups = data['id']\n",
    "\n",
    "gss = GroupShuffleSplit(n_splits=1, test_size=0.2, random_state=42)\n",
    "\n",
    "# Split the dataset\n",
    "for train_idx, test_idx in gss.split(data, groups=groups):\n",
    "    train_set = data.iloc[train_idx]\n",
    "    test_set = data.iloc[test_idx]\n",
    "\n",
    "train_set.to_csv('../data/preprocessed/train_set.csv', index=False)\n",
    "test_set.to_csv('../data/preprocessed/test_set.csv', index=False)\n"
   ]
  },
  {
   "cell_type": "code",
   "execution_count": null,
   "metadata": {},
   "outputs": [],
   "source": [
    "import pandas as pd\n",
    "from sklearn.model_selection import train_test_split\n",
    "from sklearn.preprocessing import StandardScaler\n",
    "\n",
    "filepath = '../data/preprocessed/new_engineered_data.csv' \n",
    "data = pd.read_csv(filepath)\n",
    "\n",
    "data['day'] = pd.to_datetime(data['day'])\n",
    "\n",
    "# Split the data based on dates to prevent leakage\n",
    "unique_dates = data['day'].unique()\n",
    "train_dates, test_dates = train_test_split(unique_dates, test_size=0.2, random_state=42)\n",
    "train_data = data[data['day'].isin(train_dates)]\n",
    "test_data = data[data['day'].isin(test_dates)]\n",
    "\n",
    "# Separate features and target for normalization\n",
    "feature_columns = [col for col in train_data.columns if col not in ['mood']]  # Exclude only mood column\n",
    "train_features = train_data[feature_columns]\n",
    "test_features = test_data[feature_columns]\n",
    "\n",
    "train_target = train_data['mood']\n",
    "test_target = test_data['mood']\n",
    "\n",
    "# Normalize the training data features excluding 'id' and 'day'\n",
    "columns_to_normalize = [col for col in train_features.columns if col not in ['id', 'day', 'time']]\n",
    "scaler = StandardScaler()\n",
    "train_features[columns_to_normalize] = scaler.fit_transform(train_features[columns_to_normalize])\n",
    "test_features[columns_to_normalize] = scaler.transform(test_features[columns_to_normalize])  # Use the same scaler\n",
    "\n",
    "# Concatenate the normalized features with their respective targets\n",
    "train_final = pd.concat([train_features.reset_index(drop=True), train_target.reset_index(drop=True)], axis=1)\n",
    "test_final = pd.concat([test_features.reset_index(drop=True), test_target.reset_index(drop=True)], axis=1)\n",
    "\n",
    "train_final.to_csv('train_final.csv', index=False)\n",
    "test_final.to_csv('test_final.csv', index=False)\n"
   ]
  }
 ],
 "metadata": {
  "kernelspec": {
   "display_name": "Python 3",
   "language": "python",
   "name": "python3"
  },
  "language_info": {
   "codemirror_mode": {
    "name": "ipython",
    "version": 3
   },
   "file_extension": ".py",
   "mimetype": "text/x-python",
   "name": "python",
   "nbconvert_exporter": "python",
   "pygments_lexer": "ipython3",
   "version": "3.11.4"
  }
 },
 "nbformat": 4,
 "nbformat_minor": 2
}
